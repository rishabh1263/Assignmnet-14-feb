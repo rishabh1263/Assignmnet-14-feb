{
 "cells": [
  {
   "cell_type": "markdown",
   "id": "644ff1f7",
   "metadata": {},
   "source": [
    "##Q1:\n",
    "Multithreading is a threading technique in Python programming to run multiple threads concurrently by rapidly switching between threads with a CPU help (called context switching).\n",
    "Import threading"
   ]
  },
  {
   "cell_type": "markdown",
   "id": "fa08b328",
   "metadata": {},
   "source": [
    "##Q2:\n",
    "\n",
    "The newer threading module included with Python 2.4 provides much more powerful, high-level support for threads than the thread module discussed in the previous section.\n",
    "\n",
    "The threading module exposes all the methods of the thread module and provides some additional methods −\n",
    "\n",
    "threading.activeCount() − Returns the number of thread objects that are active.\n",
    "threading.currentThread() − Returns the number of thread objects in the caller's thread control.\n",
    "threading.enumerate() − Returns a list of all thread objects that are currently active.\n",
    "In addition to the methods, the threading module has the Thread class that implements threading. The methods provided by the Thread class are as follows −\n",
    "\n",
    "run()  − The run() method is the entry point for a thread.\n",
    "start()  − The start() method starts a thread by calling the run method.\n",
    "join([time])  − The join() waits for threads to terminate.\n",
    "isAlive()  − The isAlive() method checks whether a thread is still executing.\n",
    "getName()  − The getName() method returns the name of a thread.\n",
    "setName()  − The setName() method sets the name of a thread.\n"
   ]
  },
  {
   "cell_type": "markdown",
   "id": "56285df2",
   "metadata": {},
   "source": [
    "##Q3:\n",
    "\n",
    "run() − The run() method is the entry point for a thread. start() − The start() method starts a thread by calling the run method. join([time]) − The join() waits for threads to terminate. isAlive() − The isAlive() method checks whether a thread is still executing"
   ]
  },
  {
   "cell_type": "code",
   "execution_count": 1,
   "id": "f79e4f3f",
   "metadata": {},
   "outputs": [
    {
     "name": "stdout",
     "output_type": "stream",
     "text": [
      "Square: 100Cube: 1000\n",
      "\n",
      "Done!\n"
     ]
    }
   ],
   "source": [
    "##Q4:\n",
    "\n",
    "import threading\n",
    " \n",
    " \n",
    "def print_cube(num):\n",
    "    # function to print cube of given num\n",
    "    print(\"Cube: {}\" .format(num * num * num))\n",
    " \n",
    " \n",
    "def print_square(num):\n",
    "    # function to print square of given num\n",
    "    print(\"Square: {}\" .format(num * num))\n",
    " \n",
    " \n",
    "if __name__ ==\"__main__\":\n",
    "    # creating thread\n",
    "    t1 = threading.Thread(target=print_square, args=(10,))\n",
    "    t2 = threading.Thread(target=print_cube, args=(10,))\n",
    " \n",
    "    # starting thread 1\n",
    "    t1.start()\n",
    "    # starting thread 2\n",
    "    t2.start()\n",
    " \n",
    "    # wait until thread 1 is completely executed\n",
    "    t1.join()\n",
    "    # wait until thread 2 is completely executed\n",
    "    t2.join()\n",
    " \n",
    "    # both threads completely executed\n",
    "    print(\"Done!\")"
   ]
  },
  {
   "cell_type": "markdown",
   "id": "db16804d",
   "metadata": {},
   "source": [
    "##Q5:\n",
    "\n",
    "Multithreaded and multicontexted applications offer the following advantages:\n",
    "\n",
    "\n",
    "Improved performance and concurrency\n",
    "For certain applications, performance and concurrency can be improved by using multithreading and multicontexting together. In other applications, performance can be unaffected or even degraded by using multithreading and multicontexting together. How performance is affected depends on your application.\n",
    "\n",
    "\n",
    "Simplified coding of remote procedure calls and conversations\n",
    "In some applications it is easier to code different remote procedure calls and conversations in separate threads than to manage them from the same thread.\n",
    "\n",
    "\n",
    "Simultaneous access to multiple applications\n",
    "Your BEA Tuxedo clients can be connected to more than one application at a time.\n",
    "\n",
    "\n",
    "Reduced number of required servers\n",
    "Because one server can dispatch multiple service threads, the number of servers to start for your application is reduced. This capability for multiple dispatched threads is especially useful for conversational servers, which otherwise must be dedicated to one client for the entire duration of a conversation.\n",
    "\n",
    "For applications in which client threads are created by the Microsoft Internet Information Server API or the Netscape Enterprise Server interface (that is, the NSAPI), the use of multiple threads is essential if you want to obtain the full benefits afforded by these tools. This may be true of other tools, as well.\n",
    "\n",
    "Disadvantages of a Multithreaded/Multicontexted Application\n",
    "\n",
    "Multithreaded and multicontexted applications present the following disadvantages:\n",
    "\n",
    "\n",
    "Difficulty of writing code\n",
    "Multithreaded and multicontexted applications are not easy to write. Only experienced programmers should undertake coding for these types of applications.\n",
    "\n",
    "\n",
    "Difficulty of debugging\n",
    "It is much harder to replicate an error in a multithreaded or multicontexted application than it is to do so in a single-threaded, single-contexted application. As a result, it is more difficult, in the former case, to identify and verify root causes when errors occur.\n",
    "\n",
    "\n",
    "Difficulty of managing concurrency\n",
    "The task of managing concurrency among threads is difficult and has the potential to introduce new problems into an application.\n",
    "\n",
    "\n",
    "Difficulty of testing\n",
    "Testing a multithreaded application is more difficult than testing a single-threaded application because defects are often timing-related and more difficult to reproduce.\n",
    "\n",
    "\n",
    "Difficulty of porting existing code\n",
    "Existing code often requires significant re-architecting to take advantage of multithreading and multicontexting. Programmers need to:\n",
    "\n",
    "\n",
    "Remove static variables\n",
    "\n",
    "Replace any function calls that are not thread-safe\n",
    "\n",
    "Replace any other code that is not thread-safe\n",
    "Because the completed port must be tested and re-tested, the work required to port a multithreaded and/or multicontexted application is substantial.\n"
   ]
  },
  {
   "cell_type": "markdown",
   "id": "a7272761",
   "metadata": {},
   "source": [
    "##Q6:\n",
    "\n",
    "Race Condition And Deadlock\n",
    "Both share some similarities, such as they both occur in multi-thread solutions and hamper device performance. However, both are not the same. A race condition occurs when two threads use the same variable at a given time. Deadlock exists when two threads seek one lock simultaneously."
   ]
  },
  {
   "cell_type": "code",
   "execution_count": null,
   "id": "2863a77d",
   "metadata": {},
   "outputs": [],
   "source": []
  }
 ],
 "metadata": {
  "kernelspec": {
   "display_name": "Python 3 (ipykernel)",
   "language": "python",
   "name": "python3"
  },
  "language_info": {
   "codemirror_mode": {
    "name": "ipython",
    "version": 3
   },
   "file_extension": ".py",
   "mimetype": "text/x-python",
   "name": "python",
   "nbconvert_exporter": "python",
   "pygments_lexer": "ipython3",
   "version": "3.9.13"
  }
 },
 "nbformat": 4,
 "nbformat_minor": 5
}
